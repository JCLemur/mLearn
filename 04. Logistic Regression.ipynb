{
 "metadata": {
  "name": "",
  "signature": "sha256:65fff7499ec59b025ae8bc8e0f7f2ba7e2fdf892155806d77d17d931f5345b91"
 },
 "nbformat": 3,
 "nbformat_minor": 0,
 "worksheets": []
}