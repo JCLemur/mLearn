{
 "metadata": {
  "name": "",
  "signature": "sha256:57b540d62d6dbd13c545ea7c743ae4191fdc6be802b908a17945f49887167c6d"
 },
 "nbformat": 3,
 "nbformat_minor": 0,
 "worksheets": [
  {
   "cells": [
    {
     "cell_type": "markdown",
     "metadata": {},
     "source": [
      "# The Fundamentals of Machine Learning"
     ]
    },
    {
     "cell_type": "markdown",
     "metadata": {},
     "source": [
      "## Quick Definition\n",
      "The design and study of software artifacts that use past experience to make future decisions.\n",
      "\n",
      "## Definition (Tom Mitchell)\n",
      "\"A program can be said to learn from experience **E** with respect to some class of tasks **T** and and performance measure **P**, if its performance at tasks in **T**, as measured by **P** improves with experience **E**\""
     ]
    },
    {
     "cell_type": "markdown",
     "metadata": {},
     "source": [
      "## Supervised Learning Intuition\n",
      "In supervised learning, the machine learning (ML) system is given examples of the right answers. The inputs are paired with the 'correct' output, which is often called a **label**. \n",
      "\n",
      "For example, the ML system can be provided with data consisting of observations representing people. These observations consist of a set of **features** like hair length, height, and weight. These features are said to be measures of some **explanatory variables**. \n",
      "\n",
      "The accompanying **label** can be the person's sex, male or female. Suppose that we now have access to a new set of data that are unlabelled.\n",
      "\n",
      "The supervised ML system that is **trained** on the original pair of features and labels in now tasked with generating outputs or **responses** for the new set of unlabelled data.\n",
      "\n",
      "#### Common Supervised Tasks\n",
      "- Classification\n",
      "- Regression"
     ]
    },
    {
     "cell_type": "markdown",
     "metadata": {},
     "source": [
      "## Unsupervised Learning Intuition\n",
      "In unsupervised learning, the machine learning system does not have access to the labels for a given dataset. Instead, tries to find inherent patterns in the data by clustering the observations according to some distance or similarity metric.\n",
      "\n",
      "#### Common Unsupervised Tasks\n",
      "- Clustering\n",
      "- Dimensionality Reduction"
     ]
    },
    {
     "cell_type": "markdown",
     "metadata": {},
     "source": [
      "## Training and Testing\n",
      "\n",
      "#### Overfitting and Underfitting\n",
      "\n",
      "#### Training Set, Testing Set, Validation Set\n",
      "\n",
      "#### Hyperparameter Tuning\n",
      "\n",
      "#### Cross Validation"
     ]
    },
    {
     "cell_type": "markdown",
     "metadata": {},
     "source": [
      "## Bias/Variance Tradeoff\n",
      "\n",
      "#### Bias\n",
      "\n",
      "#### Variance\n",
      "\n",
      "#### The Bias/Variance Tradeoff\n"
     ]
    },
    {
     "cell_type": "markdown",
     "metadata": {},
     "source": [
      "## Performance Measures\n",
      "\n",
      "#### Accuracy\n",
      "\n",
      "#### Precision\n",
      "\n",
      "#### Recall"
     ]
    }
   ],
   "metadata": {}
  }
 ]
}